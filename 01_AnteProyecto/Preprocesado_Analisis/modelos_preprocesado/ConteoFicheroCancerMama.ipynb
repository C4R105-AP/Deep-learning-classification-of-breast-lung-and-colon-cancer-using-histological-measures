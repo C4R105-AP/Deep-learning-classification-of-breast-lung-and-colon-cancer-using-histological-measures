{
 "cells": [
  {
   "cell_type": "code",
   "execution_count": 22,
   "metadata": {},
   "outputs": [
    {
     "data": {
      "text/plain": [
       "<Figure size 720x432 with 0 Axes>"
      ]
     },
     "execution_count": 22,
     "metadata": {},
     "output_type": "execute_result"
    },
    {
     "data": {
      "text/plain": [
       "<Figure size 720x432 with 0 Axes>"
      ]
     },
     "metadata": {},
     "output_type": "display_data"
    }
   ],
   "source": [
    "import pandas as pd\n",
    "import os\n",
    "import mimetypes\n",
    "import matplotlib.pyplot as plt\n",
    "\n",
    "# Ajustar el tamaño de la gráfica\n",
    "plt.figure(figsize=(10, 6))\n"
   ]
  },
  {
   "cell_type": "code",
   "execution_count": 23,
   "metadata": {},
   "outputs": [],
   "source": [
    "#Metodo para contar el número de archivos en una carpeta y sus subcarpetas\n",
    "def contar_archivos_y_tipos(carpeta):\n",
    "    total_archivos = 0\n",
    "    tipos_archivos = {}\n",
    "\n",
    "    for ruta_actual, carpetas, archivos in os.walk(carpeta):\n",
    "        for archivo in archivos:\n",
    "            total_archivos += 1\n",
    "            ruta_completa = os.path.join(ruta_actual, archivo)\n",
    "            tipo_archivo, _ = mimetypes.guess_type(ruta_completa)\n",
    "            tipo_archivo = tipo_archivo or 'Tipo desconocido'\n",
    "\n",
    "            if tipo_archivo in tipos_archivos:\n",
    "                tipos_archivos[tipo_archivo] += 1\n",
    "            else:\n",
    "                tipos_archivos[tipo_archivo] = 1\n",
    "\n",
    "    return total_archivos, tipos_archivos"
   ]
  },
  {
   "cell_type": "code",
   "execution_count": 24,
   "metadata": {},
   "outputs": [],
   "source": [
    "#Metodo para contar el número de archivos por carpeta\n",
    "def contar_archivos_por_carpeta(carpeta):\n",
    "    archivos_por_carpeta = {}\n",
    "\n",
    "    archivos_por_carpeta = {}\n",
    "\n",
    "    for ruta_actual, carpetas, archivos in os.walk(carpeta):\n",
    "        nombre_carpeta = os.path.basename(ruta_actual)\n",
    "        archivos_por_carpeta[nombre_carpeta] = len(archivos)\n",
    "\n",
    "    return archivos_por_carpeta\n"
   ]
  },
  {
   "cell_type": "code",
   "execution_count": 25,
   "metadata": {},
   "outputs": [
    {
     "name": "stdout",
     "output_type": "stream",
     "text": [
      "Total de archivos: 277525\n",
      "Tipos de archivos:\n",
      "- application/x-zip-compressed: 1\n",
      "- image/png: 277524\n"
     ]
    }
   ],
   "source": [
    "carpeta_inicio = r'C:\\Users\\lacer\\OneDrive\\Escritorio\\ejercicios\\TFM'  #Escribir aquí ubicación de la carpeta de imagenes\n",
    "total, tipos = contar_archivos_y_tipos(carpeta_inicio)\n",
    "\n",
    "print(\"Total de archivos:\", total)\n",
    "print(\"Tipos de archivos:\")\n",
    "\n",
    "for tipo, cantidad in tipos.items():\n",
    "    print(f\"- {tipo}: {cantidad}\")\n"
   ]
  },
  {
   "cell_type": "code",
   "execution_count": 26,
   "metadata": {},
   "outputs": [],
   "source": [
    "#Método para obtener el número de imagenes por subcarpeta \"0\" y \"1\"\n",
    "def generar_dataset(carpeta_raiz):\n",
    "    dataset = []\n",
    "\n",
    "    for ruta_actual, carpetas, archivos in os.walk(carpeta_raiz):\n",
    "        nombre_carpeta = os.path.basename(ruta_actual)\n",
    "        archivos_subcarpeta_0 = 0\n",
    "        archivos_subcarpeta_1 = 0\n",
    "\n",
    "        subcarpeta_0 = os.path.join(ruta_actual, \"0\")\n",
    "        if os.path.exists(subcarpeta_0) and os.path.isdir(subcarpeta_0):\n",
    "            archivos_subcarpeta_0 = len(os.listdir(subcarpeta_0))\n",
    "\n",
    "        subcarpeta_1 = os.path.join(ruta_actual, \"1\")\n",
    "        if os.path.exists(subcarpeta_1) and os.path.isdir(subcarpeta_1):\n",
    "            archivos_subcarpeta_1 = len(os.listdir(subcarpeta_1))\n",
    "\n",
    "        if nombre_carpeta != os.path.basename(carpeta_raiz) and nombre_carpeta != \"0\" and nombre_carpeta != \"1\":\n",
    "            dataset.append((nombre_carpeta, archivos_subcarpeta_0, archivos_subcarpeta_1))\n",
    "\n",
    "    return dataset"
   ]
  },
  {
   "cell_type": "code",
   "execution_count": 27,
   "metadata": {},
   "outputs": [
    {
     "name": "stdout",
     "output_type": "stream",
     "text": [
      "    Id_paciente  Benignas  Cancerigenas\n",
      "0         10253       479            70\n",
      "1         10254       772            76\n",
      "2         10255       181            91\n",
      "3         10256       351           117\n",
      "4         10257       427           208\n",
      "..          ...       ...           ...\n",
      "274        9346       634           727\n",
      "275        9347       359            51\n",
      "276        9381      1198           128\n",
      "277        9382      1306           346\n",
      "278        9383       494            70\n",
      "\n",
      "[279 rows x 3 columns]\n"
     ]
    }
   ],
   "source": [
    "dataset = generar_dataset(carpeta_inicio)\n",
    "\n",
    "# Convertir el dataset en un DataFrame\n",
    "df = pd.DataFrame(dataset, columns=[\"Id_paciente\", \"Benignas\", \"Cancerigenas\"])\n",
    "\n",
    "print(df)"
   ]
  },
  {
   "cell_type": "code",
   "execution_count": 28,
   "metadata": {},
   "outputs": [
    {
     "name": "stdout",
     "output_type": "stream",
     "text": [
      "<class 'pandas.core.frame.DataFrame'>\n",
      "RangeIndex: 279 entries, 0 to 278\n",
      "Data columns (total 3 columns):\n",
      " #   Column        Non-Null Count  Dtype \n",
      "---  ------        --------------  ----- \n",
      " 0   Id_paciente   279 non-null    object\n",
      " 1   Benignas      279 non-null    int64 \n",
      " 2   Cancerigenas  279 non-null    int64 \n",
      "dtypes: int64(2), object(1)\n",
      "memory usage: 6.7+ KB\n"
     ]
    }
   ],
   "source": [
    "df.info()"
   ]
  },
  {
   "cell_type": "code",
   "execution_count": 29,
   "metadata": {},
   "outputs": [
    {
     "name": "stdout",
     "output_type": "stream",
     "text": [
      "Total de imagenes de celulas benignas: 198738\n",
      "Total de imagenes de celulas cancerígenas: 78786\n"
     ]
    }
   ],
   "source": [
    "total_benig=df[\"Benignas\"].sum()\n",
    "total_cancer=df[\"Cancerigenas\"].sum()\n",
    "print(\"Total de imagenes de celulas benignas: \"+ str(total_benig))\n",
    "print(\"Total de imagenes de celulas cancerígenas: \"+ str(total_cancer))"
   ]
  },
  {
   "cell_type": "code",
   "execution_count": 34,
   "metadata": {},
   "outputs": [
    {
     "data": {
      "image/png": "[encoded data removed]",
      "text/plain": [
       "<Figure size 432x288 with 1 Axes>"
      ]
     },
     "metadata": {
      "needs_background": "light"
     },
     "output_type": "display_data"
    }
   ],
   "source": [
    "# Etiquetas de las barras\n",
    "labels = ['Benignas', 'Cancerígenas']\n",
    "\n",
    "# Alturas de las barras\n",
    "heights = [total_benig, total_cancer]\n",
    "\n",
    "# Colores de las barras\n",
    "colors = ['#2ecc71', '#c0392b']  # Verde para benigno, rojo para cáncer\n",
    "\n",
    "# Crear el gráfico de barras\n",
    "plt.bar(labels, heights, color=colors)\n",
    "\n",
    "# Configurar el estilo del título en negrita\n",
    "title_font = {'fontweight': 'bold'}\n",
    "\n",
    "# Título y etiquetas de los ejes\n",
    "plt.title('Células cancerígenas vs benignas de mama', **title_font)\n",
    "plt.xlabel('Tipos de células')\n",
    "plt.ylabel('Total de archivos')\n",
    "\n",
    "# Mostrar el gráfico\n",
    "plt.show()"
   ]
  },
  {
   "cell_type": "code",
   "execution_count": 39,
   "metadata": {},
   "outputs": [
    {
     "data": {
      "image/png": "[encoded data removed]",
      "text/plain": [
       "<Figure size 432x288 with 1 Axes>"
      ]
     },
     "metadata": {
      "needs_background": "light"
     },
     "output_type": "display_data"
    }
   ],
   "source": [
    "# Obtener los datos de cada columna\n",
    "ids = df['Id_paciente'][:5]\n",
    "benignas = df['Benignas'][:5]\n",
    "cancerigenas = df['Cancerigenas'][:5]\n",
    "\n",
    "# Configurar el ancho de las barras\n",
    "bar_width = 0.35\n",
    "\n",
    "# Posición de las barras\n",
    "pos = range(len(ids))\n",
    "\n",
    "# Crear la figura y los ejes\n",
    "fig, ax = plt.subplots()\n",
    "\n",
    "# Dibujar las barras de células benignas\n",
    "ax.bar(pos, benignas, bar_width, label='Benignas', color='green')\n",
    "\n",
    "# Dibujar las barras de células cancerígenas\n",
    "ax.bar([p + bar_width for p in pos], cancerigenas, bar_width, label='Cancerígenas', color='red')\n",
    "\n",
    "# Configurar los ticks del eje x con los IDs de los pacientes\n",
    "ax.set_xticks([p + bar_width/2 for p in pos])\n",
    "ax.set_xticklabels(ids)\n",
    "\n",
    "# Configurar el estilo del título en negrita\n",
    "title_font = {'fontweight': 'bold'}\n",
    "\n",
    "# Etiquetas de los ejes y título\n",
    "plt.xlabel('ID del paciente')\n",
    "plt.ylabel('Cantidad de células')\n",
    "plt.title('Células mamarias benignas y cancerígenas por ID de paciente', **title_font)\n",
    "\n",
    "# Mostrar la leyenda\n",
    "plt.legend()\n",
    "\n",
    "# Mostrar la gráfica\n",
    "plt.show()"
   ]
  }
 ],
 "metadata": {
  "kernelspec": {
   "display_name": "Python 3",
   "language": "python",
   "name": "python3"
  },
  "language_info": {
   "codemirror_mode": {
    "name": "ipython",
    "version": 3
   },
   "file_extension": ".py",
   "mimetype": "text/x-python",
   "name": "python",
   "nbconvert_exporter": "python",
   "pygments_lexer": "ipython3",
   "version": "3.10.0"
  },
  "orig_nbformat": 4
 },
 "nbformat": 4,
 "nbformat_minor": 2
}
